{
 "cells": [
  {
   "cell_type": "code",
   "execution_count": 1,
   "metadata": {},
   "outputs": [],
   "source": [
    "import statistics\n",
    "import math\n",
    "import numpy as np"
   ]
  },
  {
   "cell_type": "markdown",
   "metadata": {},
   "source": [
    "# Introduction to Recommender Systems\n",
    "\n",
    "Below are some small exercises to help you get used to recommender systems.\n",
    "\n",
    "Please enter your answers here: https://tinyurl.com/y5xww7ot\n",
    "You can add them one at a time, i.e. you can click \"submit\" on the form after each field that you've filled in."
   ]
  },
  {
   "cell_type": "markdown",
   "metadata": {},
   "source": [
    "## Exercise 1: Combining item ratings to obtain user ratings\n",
    "Below are the ratings of a single user for all items. How could/should these be combined? (Don't spend too much time on this. This is a warm-up exercise.)"
   ]
  },
  {
   "cell_type": "code",
   "execution_count": 2,
   "metadata": {},
   "outputs": [],
   "source": [
    "ratings = [1, 1, 1, 1, 3, 3, 5, 5]"
   ]
  },
  {
   "cell_type": "code",
   "execution_count": null,
   "metadata": {},
   "outputs": [],
   "source": []
  },
  {
   "cell_type": "markdown",
   "metadata": {},
   "source": [
    "## Exercise 2: User-based collaborative filtering\n",
    "Below is a rating matrix consisting of 5 items and 6 users. Two user-item ratings are unknown, marked with 0.\n",
    "How similar are the first user (ratings_matrix\\[0\\]) and the second user; and the first user and the 5th user?"
   ]
  },
  {
   "cell_type": "code",
   "execution_count": 3,
   "metadata": {},
   "outputs": [],
   "source": [
    "ratings = [[8, 1, 0, 2, 7], [2, 0, 5, 7, 5], [5, 4, 7, 4, 7], [7, 1, 7, 3, 8], [1, 7, 4, 6, 5], [8, 3, 8, 3, 7]]"
   ]
  },
  {
   "cell_type": "markdown",
   "metadata": {},
   "source": [
    "### 2.1 determine this using the count-based approach"
   ]
  },
  {
   "cell_type": "code",
   "execution_count": null,
   "metadata": {},
   "outputs": [],
   "source": []
  },
  {
   "cell_type": "markdown",
   "metadata": {},
   "source": [
    "### 2.2 determine this using the cosine similarity"
   ]
  },
  {
   "cell_type": "code",
   "execution_count": null,
   "metadata": {},
   "outputs": [],
   "source": []
  },
  {
   "cell_type": "markdown",
   "metadata": {},
   "source": [
    "### 2.3 determine this using the L2-normalised Euclidian distance"
   ]
  },
  {
   "cell_type": "code",
   "execution_count": null,
   "metadata": {},
   "outputs": [],
   "source": []
  },
  {
   "cell_type": "markdown",
   "metadata": {},
   "source": [
    "### 2.4 determine this using Pearson correlation "
   ]
  },
  {
   "cell_type": "code",
   "execution_count": null,
   "metadata": {},
   "outputs": [],
   "source": []
  },
  {
   "cell_type": "markdown",
   "metadata": {},
   "source": [
    "### 2.5: bonus exercise -- if you've finished the above exercises, think about what properties the presented ranking functions have in common and what properties they should generally have."
   ]
  },
  {
   "cell_type": "code",
   "execution_count": null,
   "metadata": {},
   "outputs": [],
   "source": []
  },
  {
   "cell_type": "markdown",
   "metadata": {},
   "source": [
    "## Exercise 3: Item-based collaborative filtering\n",
    "Below is a rating matrix consisting of 3 items and 4 users. Three user-item ratings are unknown, marked with 0. We want to predict these unseen user-item ratings. In this example, let's predict the rating for the second item by the first user.\n",
    "\n",
    "Calculate the similarity between the second item and other items by looking at all users who have rated both items, and use this to compute a rating for the unseen user-item pair."
   ]
  },
  {
   "cell_type": "code",
   "execution_count": 4,
   "metadata": {},
   "outputs": [],
   "source": [
    "ratings = [[2, 0, 3], [5, 2, 0], [3, 3, 1], [0, 2, 2]]"
   ]
  },
  {
   "cell_type": "markdown",
   "metadata": {},
   "source": [
    "### 3.1: find out which users have rated both the second item and another item and use this to create item-item pairs (i_2, i_j)"
   ]
  },
  {
   "cell_type": "code",
   "execution_count": null,
   "metadata": {},
   "outputs": [],
   "source": []
  },
  {
   "cell_type": "markdown",
   "metadata": {},
   "source": [
    "### 3.2: calculate the similarity between all item-item pairs identified in 3.1 -- you can use any of the methods from Exercise 2 for this"
   ]
  },
  {
   "cell_type": "code",
   "execution_count": null,
   "metadata": {},
   "outputs": [],
   "source": []
  },
  {
   "cell_type": "markdown",
   "metadata": {},
   "source": [
    "### 3.3: select the most similar ones of those item-item pairs, and/or keep only those that occur more often as similar items (optional)"
   ]
  },
  {
   "cell_type": "code",
   "execution_count": null,
   "metadata": {},
   "outputs": [],
   "source": []
  },
  {
   "cell_type": "markdown",
   "metadata": {},
   "source": [
    "### 3.4: now, we want to calculate how the first user would rate the second item. To do this, we use all other items i_j the first user has ranked and weigh them by the ratings similarities for (i_2, i_j) obtained in the last step. Then we normalise this by the average rating for all item-item similarities."
   ]
  },
  {
   "cell_type": "code",
   "execution_count": null,
   "metadata": {},
   "outputs": [],
   "source": []
  },
  {
   "cell_type": "markdown",
   "metadata": {},
   "source": [
    "### 3.5: bonus excercise -- implement a user-based collaborative filtering method to predict how the first user would rate the second item"
   ]
  },
  {
   "cell_type": "code",
   "execution_count": null,
   "metadata": {},
   "outputs": [],
   "source": []
  },
  {
   "cell_type": "markdown",
   "metadata": {},
   "source": [
    "## Exercise 4: Evaluation\n",
    "Repeat Exercise 3, but predict ratings for known user-item pairs.\n",
    "\n",
    "### 4.1: create n variants of the the ratings_matrix, where you hold out one user-item pair at a time, i.e. set it to 0, for all n possible combinations. You can replace the initial 0 values with predicted values from Exercise 2."
   ]
  },
  {
   "cell_type": "code",
   "execution_count": null,
   "metadata": {},
   "outputs": [],
   "source": []
  },
  {
   "cell_type": "markdown",
   "metadata": {},
   "source": [
    "### 4.2: create one item-based collaborative filtering per variant in 4.1, then predict the hold-out user-item pair."
   ]
  },
  {
   "cell_type": "code",
   "execution_count": null,
   "metadata": {},
   "outputs": [],
   "source": []
  },
  {
   "cell_type": "markdown",
   "metadata": {},
   "source": [
    "### 4.3: compute RMSE for your results obtained in 4.2"
   ]
  },
  {
   "cell_type": "code",
   "execution_count": null,
   "metadata": {},
   "outputs": [],
   "source": []
  },
  {
   "cell_type": "markdown",
   "metadata": {},
   "source": [
    "### 4.4: compute MAE for your results obtained in 4.2"
   ]
  },
  {
   "cell_type": "code",
   "execution_count": null,
   "metadata": {},
   "outputs": [],
   "source": []
  },
  {
   "cell_type": "markdown",
   "metadata": {},
   "source": [
    "### 4.5: computer P, R and F1 for your results obtained in 4.3"
   ]
  },
  {
   "cell_type": "code",
   "execution_count": null,
   "metadata": {},
   "outputs": [],
   "source": []
  }
 ],
 "metadata": {
  "kernelspec": {
   "display_name": "Python 3",
   "language": "python",
   "name": "python3"
  },
  "language_info": {
   "codemirror_mode": {
    "name": "ipython",
    "version": 3
   },
   "file_extension": ".py",
   "mimetype": "text/x-python",
   "name": "python",
   "nbconvert_exporter": "python",
   "pygments_lexer": "ipython3",
   "version": "3.7.1"
  }
 },
 "nbformat": 4,
 "nbformat_minor": 2
}
