{
 "cells": [
  {
   "cell_type": "code",
   "execution_count": 27,
   "metadata": {},
   "outputs": [
    {
     "name": "stdout",
     "output_type": "stream",
     "text": [
      "<class 'scipy.sparse.csc.csc_matrix'>\n",
      "<class 'numpy.ndarray'>\n",
      "(71175, 1)\n",
      "[[5639]]\n"
     ]
    }
   ],
   "source": [
    "import numpy as np\n",
    "from scipy import io\n",
    "fname = \"data/aut-avn.mat\"\n",
    "content = io.loadmat(fname, struct_as_record=True)\n",
    "Xt = content['X']\n",
    "y = content['Y']\n",
    "print(type(Xt))\n",
    "print(type(y))\n",
    "print(y.shape)\n",
    "val = np.sum(np.abs(y))\n",
    "res = np.linalg.norm(y)\n",
    "dt = np.dot(y.T, y)"
   ]
  },
  {
   "cell_type": "code",
   "execution_count": 19,
   "metadata": {},
   "outputs": [
    {
     "data": {
      "text/plain": [
       "71174.99999999999"
      ]
     },
     "execution_count": 19,
     "metadata": {},
     "output_type": "execute_result"
    }
   ],
   "source": []
  },
  {
   "cell_type": "code",
   "execution_count": 23,
   "metadata": {},
   "outputs": [],
   "source": [
    "import numpy\n",
    "import numpy as np\n",
    "from scipy import optimize\n",
    "from scipy import sparse\n",
    "\n",
    "class SparseLSSVM():\n",
    "    \n",
    "    def __init__(self, lam=1.0):\n",
    "        \"\"\" Instantiates the regression model.\n",
    "        \n",
    "        Parameters\n",
    "        ----------\n",
    "        lam : float, default 1.0\n",
    "            The regularization parameter lambda\n",
    "        \"\"\"\n",
    "        \n",
    "        self.lam = lam\n",
    "\n",
    "    def get_params(self, deep=True):\n",
    "        \"\"\" Returns the parameters of the model\n",
    "        \"\"\"\n",
    "        \n",
    "        return {\"lam\": self.lam}\n",
    "\n",
    "    def set_params(self, **parameters):\n",
    "        \"\"\" Sets the parameters of the model\n",
    "        \"\"\"        \n",
    "        \n",
    "        for parameter, value in parameters.items():\n",
    "            setattr(self, parameter, value)\n",
    "            \n",
    "        return self\n",
    "    \n",
    "    def fit(self, X, y):\n",
    "        \"\"\"\n",
    "        Fits the model.\n",
    "\n",
    "        Parameters\n",
    "        ----------\n",
    "        X : Array of shape [n_samples, n_features]\n",
    "            Sparse data matrix\n",
    "        y : Array of shape [n_samples, 1]\n",
    "            Dense vector\n",
    "        \"\"\"   \n",
    "        \n",
    "        y = numpy.array(y).reshape((len(y), 1))\n",
    "        \n",
    "        self._n = X.shape[0]\n",
    "        self._X, self._y = X, y\n",
    "        \n",
    "        # make use of optimizer provided by the scipy package\n",
    "        # DO NOT CHANGE ANYTHING HERE\n",
    "        start = numpy.zeros(self._X.shape[0], numpy.float64).reshape((-1,1))\n",
    "        self.c_opt, self.f_opt, d = optimize.fmin_l_bfgs_b(self._get_function,\n",
    "                                                 start,\n",
    "                                                 m=10,\n",
    "                                                 fprime=self._get_function_grad,\n",
    "                                                 iprint=1)\n",
    "        self.c_opt = self.c_opt.reshape((-1,1))\n",
    "        return self\n",
    "    \n",
    "    def _get_function(self, c):\n",
    "    \n",
    "        c = c.reshape((-1,1))\n",
    "        f = self._y.T @ self._y \n",
    "        print(self._y.shape)\n",
    "        f = np.linalg.norm(y) ** 2\n",
    "        #f = np.dot(self._y, self._y)\n",
    "        f = (c.T @ self._X @ self._X.T @ c) - (2 * self._y.T @ self._X @ self._X.T @ c) + (np.linalg.norm(y) ** 2)  + (self.lam * c.T @ self._X @ self._X.T @ c)\n",
    "        print(f.shape)\n",
    "        print(f)\n",
    "        \n",
    "        return f\n",
    "    \n",
    "    def _get_function_grad(self, c):\n",
    "    \n",
    "        c = c.reshape((-1,1))\n",
    "        grad = self._y - ((self._n * self.lam * c) + self._X @ (self._X.T @ c))\n",
    "        # TODO\n",
    "        #grad = ...\n",
    "        \n",
    "        return grad\n",
    "    \n",
    "    def predict(self, Xm):\n",
    "        \"\"\"\n",
    "        Computes predictions for a new set of points.\n",
    "\n",
    "        Parameters\n",
    "        ----------\n",
    "        X : Array of shape [n_samples, n_features]\n",
    "            Sparse data matrix\n",
    "\n",
    "        Returns\n",
    "        -------\n",
    "        predictions : Array of shape [n_samples, 1]\n",
    "        \"\"\"           \n",
    "        \n",
    "        # NOTE: You need to convert the real-valued \n",
    "        # predictions to -1 or +1 depending on them\n",
    "        # being negative or positive\n",
    "        \n",
    "        # TODO\n",
    "        preds = self.c_opt.T  @ self._X \n",
    "        print(self.c_opt.T.shape)\n",
    "        print(self._X.shape)\n",
    "        \n",
    "        print(np.sum(self.c_opt))\n",
    "        preds[preds <= 0] = -1\n",
    "        preds[preds > 0] = 1\n",
    "        return preds\n",
    "                        "
   ]
  },
  {
   "cell_type": "code",
   "execution_count": 24,
   "metadata": {},
   "outputs": [
    {
     "name": "stdout",
     "output_type": "stream",
     "text": [
      "Number of training instances: 64057\n",
      "Number of test instances: 7118\n",
      "Number of features: 20707\n",
      "(64057, 1)\n",
      "(1, 1)\n",
      "[[71175.]]\n",
      "(64057, 1)\n",
      "(1, 1)\n",
      "[[200408.52153098]]\n",
      "(64057, 1)\n",
      "(1, 1)\n",
      "[[71216.99618107]]\n",
      "(64057, 1)\n",
      "(1, 1)\n",
      "[[71175.01371243]]\n",
      "(64057, 1)\n",
      "(1, 1)\n",
      "[[71175.00000448]]\n",
      "(64057, 1)\n",
      "(1, 1)\n",
      "[[71175.]]\n",
      "(64057, 1)\n",
      "(1, 1)\n",
      "[[71175.]]\n",
      "(64057, 1)\n",
      "(1, 1)\n",
      "[[71175.]]\n",
      "(64057, 1)\n",
      "(1, 1)\n",
      "[[71175.]]\n",
      "(64057, 1)\n",
      "(1, 1)\n",
      "[[71175.]]\n",
      "(64057, 1)\n",
      "(1, 1)\n",
      "[[71175.]]\n",
      "(64057, 1)\n",
      "(1, 1)\n",
      "[[71175.]]\n",
      "(64057, 1)\n",
      "(1, 1)\n",
      "[[71175.]]\n",
      "(64057, 1)\n",
      "(1, 1)\n",
      "[[71175.]]\n",
      "(64057, 1)\n",
      "(1, 1)\n",
      "[[71175.]]\n",
      "(64057, 1)\n",
      "(1, 1)\n",
      "[[71175.]]\n",
      "(64057, 1)\n",
      "(1, 1)\n",
      "[[71175.]]\n",
      "(64057, 1)\n",
      "(1, 1)\n",
      "[[71175.]]\n",
      "(64057, 1)\n",
      "(1, 1)\n",
      "[[71175.]]\n",
      "(64057, 1)\n",
      "(1, 1)\n",
      "[[71175.]]\n",
      "(64057, 1)\n",
      "(1, 1)\n",
      "[[71175.]]\n"
     ]
    },
    {
     "data": {
      "text/plain": [
       "<__main__.SparseLSSVM at 0x127d90d68>"
      ]
     },
     "execution_count": 24,
     "metadata": {},
     "output_type": "execute_result"
    }
   ],
   "source": [
    "# DO NOT CHANGE ME\n",
    "from sklearn.model_selection import train_test_split\n",
    "X_train, X_test, y_train, y_test = train_test_split(Xt, y, test_size=0.1, random_state=1)\n",
    "\n",
    "print(\"Number of training instances: {}\".format(X_train.shape[0]))\n",
    "print(\"Number of test instances: {}\".format(X_test.shape[0]))\n",
    "print(\"Number of features: {}\".format(X_train.shape[1]))\n",
    "\n",
    "clf = SparseLSSVM(lam=0.001)\n",
    "clf.fit(X_train, y_train)"
   ]
  },
  {
   "cell_type": "code",
   "execution_count": 25,
   "metadata": {},
   "outputs": [
    {
     "name": "stdout",
     "output_type": "stream",
     "text": [
      "(1, 64057)\n",
      "(64057, 20707)\n",
      "0.0\n"
     ]
    },
    {
     "ename": "ValueError",
     "evalue": "Found input variables with inconsistent numbers of samples: [7118, 1]",
     "output_type": "error",
     "traceback": [
      "\u001b[0;31m---------------------------------------------------------------------------\u001b[0m",
      "\u001b[0;31mValueError\u001b[0m                                Traceback (most recent call last)",
      "\u001b[0;32m<ipython-input-25-064ef4d9e844>\u001b[0m in \u001b[0;36m<module>\u001b[0;34m\u001b[0m\n\u001b[1;32m      2\u001b[0m \u001b[0;32mfrom\u001b[0m \u001b[0msklearn\u001b[0m\u001b[0;34m.\u001b[0m\u001b[0mmetrics\u001b[0m \u001b[0;32mimport\u001b[0m \u001b[0maccuracy_score\u001b[0m\u001b[0;34m\u001b[0m\u001b[0;34m\u001b[0m\u001b[0m\n\u001b[1;32m      3\u001b[0m \u001b[0mpreds\u001b[0m \u001b[0;34m=\u001b[0m \u001b[0mclf\u001b[0m\u001b[0;34m.\u001b[0m\u001b[0mpredict\u001b[0m\u001b[0;34m(\u001b[0m\u001b[0mX_test\u001b[0m\u001b[0;34m)\u001b[0m\u001b[0;34m\u001b[0m\u001b[0;34m\u001b[0m\u001b[0m\n\u001b[0;32m----> 4\u001b[0;31m \u001b[0macc\u001b[0m \u001b[0;34m=\u001b[0m \u001b[0maccuracy_score\u001b[0m\u001b[0;34m(\u001b[0m\u001b[0my_test\u001b[0m\u001b[0;34m,\u001b[0m \u001b[0mpreds\u001b[0m\u001b[0;34m)\u001b[0m\u001b[0;34m\u001b[0m\u001b[0;34m\u001b[0m\u001b[0m\n\u001b[0m\u001b[1;32m      5\u001b[0m \u001b[0mprint\u001b[0m\u001b[0;34m(\u001b[0m\u001b[0;34m\"Accuracy of model: {acc}\"\u001b[0m\u001b[0;34m.\u001b[0m\u001b[0mformat\u001b[0m\u001b[0;34m(\u001b[0m\u001b[0macc\u001b[0m\u001b[0;34m=\u001b[0m\u001b[0macc\u001b[0m\u001b[0;34m)\u001b[0m\u001b[0;34m)\u001b[0m\u001b[0;34m\u001b[0m\u001b[0;34m\u001b[0m\u001b[0m\n",
      "\u001b[0;32m/usr/local/lib/python3.7/site-packages/sklearn/metrics/classification.py\u001b[0m in \u001b[0;36maccuracy_score\u001b[0;34m(y_true, y_pred, normalize, sample_weight)\u001b[0m\n\u001b[1;32m    174\u001b[0m \u001b[0;34m\u001b[0m\u001b[0m\n\u001b[1;32m    175\u001b[0m     \u001b[0;31m# Compute accuracy for each possible representation\u001b[0m\u001b[0;34m\u001b[0m\u001b[0;34m\u001b[0m\u001b[0;34m\u001b[0m\u001b[0m\n\u001b[0;32m--> 176\u001b[0;31m     \u001b[0my_type\u001b[0m\u001b[0;34m,\u001b[0m \u001b[0my_true\u001b[0m\u001b[0;34m,\u001b[0m \u001b[0my_pred\u001b[0m \u001b[0;34m=\u001b[0m \u001b[0m_check_targets\u001b[0m\u001b[0;34m(\u001b[0m\u001b[0my_true\u001b[0m\u001b[0;34m,\u001b[0m \u001b[0my_pred\u001b[0m\u001b[0;34m)\u001b[0m\u001b[0;34m\u001b[0m\u001b[0;34m\u001b[0m\u001b[0m\n\u001b[0m\u001b[1;32m    177\u001b[0m     \u001b[0mcheck_consistent_length\u001b[0m\u001b[0;34m(\u001b[0m\u001b[0my_true\u001b[0m\u001b[0;34m,\u001b[0m \u001b[0my_pred\u001b[0m\u001b[0;34m,\u001b[0m \u001b[0msample_weight\u001b[0m\u001b[0;34m)\u001b[0m\u001b[0;34m\u001b[0m\u001b[0;34m\u001b[0m\u001b[0m\n\u001b[1;32m    178\u001b[0m     \u001b[0;32mif\u001b[0m \u001b[0my_type\u001b[0m\u001b[0;34m.\u001b[0m\u001b[0mstartswith\u001b[0m\u001b[0;34m(\u001b[0m\u001b[0;34m'multilabel'\u001b[0m\u001b[0;34m)\u001b[0m\u001b[0;34m:\u001b[0m\u001b[0;34m\u001b[0m\u001b[0;34m\u001b[0m\u001b[0m\n",
      "\u001b[0;32m/usr/local/lib/python3.7/site-packages/sklearn/metrics/classification.py\u001b[0m in \u001b[0;36m_check_targets\u001b[0;34m(y_true, y_pred)\u001b[0m\n\u001b[1;32m     69\u001b[0m     \u001b[0my_pred\u001b[0m \u001b[0;34m:\u001b[0m \u001b[0marray\u001b[0m \u001b[0;32mor\u001b[0m \u001b[0mindicator\u001b[0m \u001b[0mmatrix\u001b[0m\u001b[0;34m\u001b[0m\u001b[0;34m\u001b[0m\u001b[0m\n\u001b[1;32m     70\u001b[0m     \"\"\"\n\u001b[0;32m---> 71\u001b[0;31m     \u001b[0mcheck_consistent_length\u001b[0m\u001b[0;34m(\u001b[0m\u001b[0my_true\u001b[0m\u001b[0;34m,\u001b[0m \u001b[0my_pred\u001b[0m\u001b[0;34m)\u001b[0m\u001b[0;34m\u001b[0m\u001b[0;34m\u001b[0m\u001b[0m\n\u001b[0m\u001b[1;32m     72\u001b[0m     \u001b[0mtype_true\u001b[0m \u001b[0;34m=\u001b[0m \u001b[0mtype_of_target\u001b[0m\u001b[0;34m(\u001b[0m\u001b[0my_true\u001b[0m\u001b[0;34m)\u001b[0m\u001b[0;34m\u001b[0m\u001b[0;34m\u001b[0m\u001b[0m\n\u001b[1;32m     73\u001b[0m     \u001b[0mtype_pred\u001b[0m \u001b[0;34m=\u001b[0m \u001b[0mtype_of_target\u001b[0m\u001b[0;34m(\u001b[0m\u001b[0my_pred\u001b[0m\u001b[0;34m)\u001b[0m\u001b[0;34m\u001b[0m\u001b[0;34m\u001b[0m\u001b[0m\n",
      "\u001b[0;32m/usr/local/lib/python3.7/site-packages/sklearn/utils/validation.py\u001b[0m in \u001b[0;36mcheck_consistent_length\u001b[0;34m(*arrays)\u001b[0m\n\u001b[1;32m    233\u001b[0m     \u001b[0;32mif\u001b[0m \u001b[0mlen\u001b[0m\u001b[0;34m(\u001b[0m\u001b[0muniques\u001b[0m\u001b[0;34m)\u001b[0m \u001b[0;34m>\u001b[0m \u001b[0;36m1\u001b[0m\u001b[0;34m:\u001b[0m\u001b[0;34m\u001b[0m\u001b[0;34m\u001b[0m\u001b[0m\n\u001b[1;32m    234\u001b[0m         raise ValueError(\"Found input variables with inconsistent numbers of\"\n\u001b[0;32m--> 235\u001b[0;31m                          \" samples: %r\" % [int(l) for l in lengths])\n\u001b[0m\u001b[1;32m    236\u001b[0m \u001b[0;34m\u001b[0m\u001b[0m\n\u001b[1;32m    237\u001b[0m \u001b[0;34m\u001b[0m\u001b[0m\n",
      "\u001b[0;31mValueError\u001b[0m: Found input variables with inconsistent numbers of samples: [7118, 1]"
     ]
    }
   ],
   "source": [
    "# DO NOT CHANGE ME\n",
    "from sklearn.metrics import accuracy_score\n",
    "preds = clf.predict(X_test)\n",
    "acc = accuracy_score(y_test, preds)\n",
    "print(\"Accuracy of model: {acc}\".format(acc=acc))"
   ]
  },
  {
   "cell_type": "code",
   "execution_count": null,
   "metadata": {},
   "outputs": [],
   "source": []
  },
  {
   "cell_type": "code",
   "execution_count": null,
   "metadata": {},
   "outputs": [],
   "source": []
  },
  {
   "cell_type": "code",
   "execution_count": null,
   "metadata": {},
   "outputs": [],
   "source": []
  },
  {
   "cell_type": "code",
   "execution_count": null,
   "metadata": {},
   "outputs": [],
   "source": []
  }
 ],
 "metadata": {
  "kernelspec": {
   "display_name": "Python 3",
   "language": "python",
   "name": "python3"
  },
  "language_info": {
   "codemirror_mode": {
    "name": "ipython",
    "version": 3
   },
   "file_extension": ".py",
   "mimetype": "text/x-python",
   "name": "python",
   "nbconvert_exporter": "python",
   "pygments_lexer": "ipython3",
   "version": "3.7.3"
  }
 },
 "nbformat": 4,
 "nbformat_minor": 2
}
