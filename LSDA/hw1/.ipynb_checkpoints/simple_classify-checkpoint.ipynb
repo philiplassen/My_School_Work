{
 "cells": [
  {
   "cell_type": "markdown",
   "metadata": {},
   "source": [
    "## Loading Pandas and data files"
   ]
  },
  {
   "cell_type": "code",
   "execution_count": 1,
   "metadata": {},
   "outputs": [],
   "source": [
    "import pandas as pd\n",
    "df1 = pd.read_csv(\"data/fold1Training.json_last_vals.csv\")\n",
    "#df2 = pd.read_csv(\"data/fold2Training.json_last_vals.csv\")\n",
    "#df3 = pd.read_csv(\"data/fold3Training.json_last_vals.csv\")\n",
    "\n",
    "\n",
    "# Get Labels from the dataframe\n",
    "labels1 = df1[\"LABEL\"]\n",
    "del df1[\"LABEL\"]\n",
    "#labels2 = df2[\"LABEL\"]\n",
    "#del df2[\"LABEL\"]\n",
    "#labels3 = df3[\"LABEL\"]\n",
    "#del df3[\"LABEL\"]\n"
   ]
  },
  {
   "cell_type": "code",
   "execution_count": 2,
   "metadata": {},
   "outputs": [],
   "source": [
    "remove =['MEANSHR', 'MEANGAM', 'MEANGBT', 'MEANGBZ', 'MEANGBH', 'MEANJZH', 'TOTFY', 'MEANJZD', 'MEANALP', 'TOTFX', 'EPSY', 'EPSX']\n",
    "for r in remove:\n",
    "    del df1[r]"
   ]
  },
  {
   "cell_type": "markdown",
   "metadata": {},
   "source": [
    "## Processing \n",
    "We need to get rows with matching IDs into a single row. Below is a function that converts a dataframe into a dataframe of the desired format."
   ]
  },
  {
   "cell_type": "code",
   "execution_count": 3,
   "metadata": {},
   "outputs": [],
   "source": [
    "def reformat(df):\n",
    "    \"\"\"\n",
    "    Takes a DataFrame and reformats it\n",
    "    \"\"\"\n",
    "    #try:\n",
    "    #    del df[\"LABEL\"]\n",
    "    #except:\n",
    "    #    print(\"No label in DF\")\n",
    "    s=df.assign(key=df.groupby('ID').cumcount()+1).set_index(['ID','key']).stack().unstack([1,2])\n",
    "    s.columns=s.columns.map('{0[1]}{0[0]}'.format)\n",
    "    #for i in range(1, 61):\n",
    "    #    del s[\"LABEL\" + str(i)]\n",
    "    return s"
   ]
  },
  {
   "cell_type": "code",
   "execution_count": 4,
   "metadata": {},
   "outputs": [],
   "source": [
    "def row_labels(df):\n",
    "    labs = df.values\n",
    "    return [labs[i * 60] for i in range(int(len(labs) / 60))]"
   ]
  },
  {
   "cell_type": "code",
   "execution_count": 5,
   "metadata": {},
   "outputs": [],
   "source": [
    "X1 = reformat(df1)\n",
    "#X2 = reformat(df2)\n",
    "#X3 = reformat(df3)\n",
    "y1 = row_labels(labels1)\n",
    "#y2 = row_labels(labels2)\n",
    "#y3 = row_labels(labels3)"
   ]
  },
  {
   "cell_type": "code",
   "execution_count": 6,
   "metadata": {},
   "outputs": [],
   "source": [
    "X = X1.values"
   ]
  },
  {
   "cell_type": "code",
   "execution_count": null,
   "metadata": {},
   "outputs": [],
   "source": []
  },
  {
   "cell_type": "code",
   "execution_count": 7,
   "metadata": {},
   "outputs": [
    {
     "name": "stderr",
     "output_type": "stream",
     "text": [
      "/usr/local/lib/python3.7/site-packages/numpy/lib/function_base.py:3250: RuntimeWarning: Invalid value encountered in median for 720 results\n",
      "  r = func(a, **kwargs)\n"
     ]
    }
   ],
   "source": [
    "import numpy as np\n",
    "X1_norm = (X - np.median(X, axis = 0)) / np.std(X, axis = 0)"
   ]
  },
  {
   "cell_type": "code",
   "execution_count": 8,
   "metadata": {},
   "outputs": [
    {
     "data": {
      "text/plain": [
       "(76773, 780)"
      ]
     },
     "execution_count": 8,
     "metadata": {},
     "output_type": "execute_result"
    }
   ],
   "source": [
    "X1_norm.shape"
   ]
  },
  {
   "cell_type": "code",
   "execution_count": 9,
   "metadata": {},
   "outputs": [],
   "source": [
    "X1_filled = np.nan_to_num(X1_norm, 0)"
   ]
  },
  {
   "cell_type": "code",
   "execution_count": null,
   "metadata": {},
   "outputs": [],
   "source": []
  },
  {
   "cell_type": "code",
   "execution_count": null,
   "metadata": {},
   "outputs": [
    {
     "name": "stdout",
     "output_type": "stream",
     "text": [
      "[LibSVM]"
     ]
    }
   ],
   "source": [
    "\n",
    "from sklearn import svm\n",
    "clf = svm.SVC(gamma=0.075, C = 4, kernel = 'rbf', verbose = True)\n",
    "clf.fit(X1_filled, y1)\n"
   ]
  },
  {
   "cell_type": "code",
   "execution_count": null,
   "metadata": {},
   "outputs": [],
   "source": []
  }
 ],
 "metadata": {
  "kernelspec": {
   "display_name": "Python 3",
   "language": "python",
   "name": "python3"
  },
  "language_info": {
   "codemirror_mode": {
    "name": "ipython",
    "version": 3
   },
   "file_extension": ".py",
   "mimetype": "text/x-python",
   "name": "python",
   "nbconvert_exporter": "python",
   "pygments_lexer": "ipython3",
   "version": "3.7.3"
  }
 },
 "nbformat": 4,
 "nbformat_minor": 2
}
