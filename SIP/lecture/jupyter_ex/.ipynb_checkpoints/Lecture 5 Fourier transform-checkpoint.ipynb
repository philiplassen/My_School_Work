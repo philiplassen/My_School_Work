{
 "cells": [
  {
   "cell_type": "markdown",
   "metadata": {},
   "source": [
    "## Lecture 5: Fourier transform\n",
    "\n",
    "In this demo we demonstrate the Fourier transform through a simple low-pass filter"
   ]
  },
  {
   "cell_type": "code",
   "execution_count": null,
   "metadata": {
    "collapsed": true
   },
   "outputs": [],
   "source": [
    "# Importing packages\n",
    "from scipy import fftpack\n",
    "import numpy as np\n",
    "import matplotlib.pyplot as plt\n",
    "import skimage\n",
    "import matplotlib\n",
    "from skimage import io\n",
    "from skimage import color\n",
    "from matplotlib import cm\n",
    "%matplotlib inline\n",
    "matplotlib.rcParams['figure.figsize'] = (12,6)"
   ]
  },
  {
   "cell_type": "markdown",
   "metadata": {},
   "source": [
    "### Example 1: The Fourier transform of an image"
   ]
  },
  {
   "cell_type": "code",
   "execution_count": null,
   "metadata": {},
   "outputs": [],
   "source": [
    "# Read image\n",
    "f = np.array(color.rgb2gray(io.imread('noisy_smartgirl.png').astype(float)))\n",
    "\n",
    "# Take Fourier transform\n",
    "f_fft = fftpack.fft2(f)\n",
    "\n",
    "# Verify that it is complex valued\n",
    "#print(f_fft)\n",
    "\n",
    "# Take magnitude of values of f_fft (giving the Fourier spectrum)\n",
    "f_fft_abs = np.absolute(f_fft)\n",
    "\n",
    "# View image and Fourier spectrum\n",
    "fig, ax = plt.subplots(1,2)\n",
    "ax[0].imshow(f, cmap=cm.Greys_r)\n",
    "ax[1].imshow(f_fft_abs, cmap=cm.Greys_r)"
   ]
  },
  {
   "cell_type": "markdown",
   "metadata": {},
   "source": [
    "What did we learn from that? Hmm...\n",
    "\n",
    "The Fourier spectrum is on a scale that does not visualize well. Let's transform it to enhance contrast \n",
    "* The log transformed spectrum $100 \\log ( 1 + |f\\_fft|)$"
   ]
  },
  {
   "cell_type": "code",
   "execution_count": null,
   "metadata": {},
   "outputs": [],
   "source": [
    "# The log-transformed spectrum:\n",
    "f_logtrans = 100*np.log(1 + f_fft_abs)\n",
    "\n",
    "# View image and the log transformed spectrum\n",
    "fig, ax = plt.subplots(1,2)\n",
    "ax[0].imshow(f, cmap=cm.Greys_r)\n",
    "ax[1].imshow(f_logtrans, cmap=cm.Greys_r)"
   ]
  },
  {
   "cell_type": "markdown",
   "metadata": {},
   "source": [
    "Now, the high frequencies are found at the boundaries. Let's shift them to the middle "
   ]
  },
  {
   "cell_type": "code",
   "execution_count": null,
   "metadata": {},
   "outputs": [],
   "source": [
    "# Apply fftshift\n",
    "f_logtrans_shifted = fftpack.fftshift(f_logtrans)\n",
    "\n",
    "# View image, the power spectrum and the log transformed spectrum\n",
    "fig, ax = plt.subplots(1,2)\n",
    "ax[0].imshow(f, cmap=cm.Greys_r)\n",
    "ax[1].imshow(f_logtrans_shifted, cmap=cm.Greys_r)"
   ]
  },
  {
   "cell_type": "markdown",
   "metadata": {},
   "source": [
    "For the remainder of the lecture, let's collect those moves in a function"
   ]
  },
  {
   "cell_type": "code",
   "execution_count": null,
   "metadata": {
    "collapsed": true
   },
   "outputs": [],
   "source": [
    "def log_spectrum(I):\n",
    "    I_fft = fftpack.fft2(I)\n",
    "    I_fftshifted = fftpack.fftshift(I_fft)\n",
    "    return 100*np.log(1 + np.absolute(I_fftshifted))"
   ]
  },
  {
   "cell_type": "markdown",
   "metadata": {},
   "source": [
    "### Example 2: Let's look at some toy images"
   ]
  },
  {
   "cell_type": "code",
   "execution_count": null,
   "metadata": {},
   "outputs": [],
   "source": [
    "# Read and view test images\n",
    "test1 = np.array(color.rgb2gray(io.imread('testim1.png').astype(float)))\n",
    "test2 = np.array(color.rgb2gray(io.imread('testim2.png').astype(float)))\n",
    "test3 = np.array(color.rgb2gray(io.imread('testim3.png').astype(float)))\n",
    "test4 = np.array(color.rgb2gray(io.imread('testim4.png').astype(float)))\n",
    "\n",
    "# View test images and their log transformed spectrums\n",
    "fig, ax = plt.subplots(2,4)\n",
    "ax[0,0].imshow(test1, cmap=cm.Greys_r)\n",
    "ax[0,1].imshow(test2, cmap=cm.Greys_r)\n",
    "ax[0,2].imshow(test3, cmap=cm.Greys_r)\n",
    "ax[0,3].imshow(test4, cmap=cm.Greys_r)\n",
    "ax[1,0].imshow(log_spectrum(test1), cmap=cm.Greys_r)\n",
    "ax[1,1].imshow(log_spectrum(test2), cmap=cm.Greys_r)\n",
    "ax[1,2].imshow(log_spectrum(test3), cmap=cm.Greys_r)\n",
    "ax[1,3].imshow(log_spectrum(test4), cmap=cm.Greys_r)"
   ]
  },
  {
   "cell_type": "markdown",
   "metadata": {},
   "source": [
    "### Example 3: A simple low-pass filter\n",
    "\n",
    "Now, we are ready to filter out high frequency basis vectors by filtering in the Fourier domain"
   ]
  },
  {
   "cell_type": "code",
   "execution_count": null,
   "metadata": {
    "collapsed": true
   },
   "outputs": [],
   "source": [
    "def lp_filter(f):\n",
    "    rad = 100 # radius\n",
    "    fil = np.zeros(f.shape)\n",
    "    n, m = f.shape\n",
    "    for i in range(n):\n",
    "        for j in range(m):\n",
    "            r = np.linalg.norm([i-n/2, j-m/2])\n",
    "            if r < rad:\n",
    "                fil[i,j] = 1\n",
    "         \n",
    "    # Comment out if you want to look at the filter\n",
    "    io.imshow(fil, cmap=cm.Greys_r)\n",
    "    \n",
    "    # Take Fourier transform\n",
    "    f_fft = fftpack.fft2(f)\n",
    "    # Make fftshift\n",
    "    f_fftshifted = fftpack.fftshift(f_fft)\n",
    "    # Apply filter\n",
    "    f_fftshifted_filtered = np.multiply(f_fftshifted, fil)\n",
    "    # Make fftshift\n",
    "    f_fft_filtered = fftpack.ifftshift(f_fftshifted_filtered)\n",
    "    # Inverse Fourier transform\n",
    "    f_filtered = fftpack.ifft2(f_fft_filtered)\n",
    "    return f_filtered"
   ]
  },
  {
   "cell_type": "code",
   "execution_count": null,
   "metadata": {},
   "outputs": [],
   "source": [
    "# Filter the image\n",
    "f_filtered = lp_filter(f)\n",
    "\n",
    "# View original image together with filtered version; make sure to take real part\n",
    "fig, ax = plt.subplots(1,2)\n",
    "ax[0].imshow(f, cmap=cm.Greys_r)\n",
    "ax[1].imshow(np.real(f_filtered), cmap=cm.Greys_r)"
   ]
  },
  {
   "cell_type": "code",
   "execution_count": null,
   "metadata": {
    "collapsed": true
   },
   "outputs": [],
   "source": []
  }
 ],
 "metadata": {
  "kernelspec": {
   "display_name": "Python 3",
   "language": "python",
   "name": "python3"
  },
  "language_info": {
   "codemirror_mode": {
    "name": "ipython",
    "version": 3
   },
   "file_extension": ".py",
   "mimetype": "text/x-python",
   "name": "python",
   "nbconvert_exporter": "python",
   "pygments_lexer": "ipython3",
   "version": "3.6.1"
  }
 },
 "nbformat": 4,
 "nbformat_minor": 2
}
