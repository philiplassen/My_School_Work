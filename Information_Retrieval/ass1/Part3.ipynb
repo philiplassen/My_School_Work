{
 "cells": [
  {
   "cell_type": "markdown",
   "metadata": {},
   "source": [
    "# CPTW vs TF-IDF\n",
    "This Jupyter Notebook Implements the methods described in the paper Contextually Propogated Term Weights for Document. We compare the results with the popular TF-IDF algorithm"
   ]
  },
  {
   "cell_type": "code",
   "execution_count": 6,
   "metadata": {},
   "outputs": [],
   "source": [
    "#To Do (Possibel that this cell should be deleted)\n",
    "import gensim\n",
    "model = gensim.models.KeyedVectors.load_word2vec_format('GoogleNews-vectors-negative300.bin', binary=True)"
   ]
  },
  {
   "cell_type": "markdown",
   "metadata": {},
   "source": [
    "## Proccessing Training Data\n",
    "Below the training data is proccesed such that we have the labels for the different training data in the variable **train_labels** and the corresponding text in **train_text**"
   ]
  },
  {
   "cell_type": "code",
   "execution_count": 8,
   "metadata": {},
   "outputs": [],
   "source": [
    "train_file = open(\"reuters/r8-train-all-terms.txt\", \"r\")\n",
    "train_texts = []\n",
    "train_labels = []\n",
    "for x in train_file:\n",
    "    split = x.split()\n",
    "    train_labels += [split[0]]\n",
    "    words = \" \".join(split[1:])\n",
    "    train_texts += [words]"
   ]
  },
  {
   "cell_type": "markdown",
   "metadata": {},
   "source": [
    "## Proccessing Test Data\n",
    "We repeat the same steps with the test data with the respective variables beign **test_labels** and **test_text**"
   ]
  },
  {
   "cell_type": "code",
   "execution_count": 9,
   "metadata": {},
   "outputs": [],
   "source": [
    "test_file = open(\"reuters/r8-test-all-terms.txt\", \"r\")\n",
    "test_texts = []\n",
    "test_labels = []\n",
    "for x in test_file:\n",
    "    split = x.split()\n",
    "    test_labels += [split[0]]\n",
    "    words = \" \".join(split[1:])\n",
    "    test_texts += [words]"
   ]
  },
  {
   "cell_type": "markdown",
   "metadata": {},
   "source": [
    "## Training TF-IDF Model\n",
    "Training a prediction model using TD-IDF as a baseline to compare with the CPTW algorithm that will be implemented later. The code is copied from [stack-overflow](https://stackoverflow.com/questions/43494059/list-of-tfidf-points-for-scikit-nearest-neighbor). Code uses K = 1 for KNN."
   ]
  },
  {
   "cell_type": "markdown",
   "metadata": {},
   "source": [
    "from sklearn.neighbors import NearestNeighbors\n",
    "from sklearn.feature_extraction.text import CountVectorizer, TfidfTransformer\n",
    "training = train_texts\n",
    "count_vect = CountVectorizer()\n",
    "X_train_counts = count_vect.fit_transform(training)\n",
    "tfidf_transformer = TfidfTransformer()\n",
    "X_train_tfidf = tfidf_transformer.fit_transform(X_train_counts)\n",
    "neigh = NearestNeighbors(n_neighbors=1, n_jobs=-1) \n",
    "neigh.fit(X_train_tfidf)\n",
    "\n",
    "test= test_texts\n",
    "X_test_counts = count_vect.transform(test)\n",
    "\n",
    "X_test_tfidf = tfidf_transformer.transform(X_test_counts)\n",
    "\n",
    "comp = neigh.kneighbors(X_test_tfidf, return_distance=False)"
   ]
  },
  {
   "cell_type": "markdown",
   "metadata": {},
   "source": [
    "## Baseline result of TF-IDF\n",
    "Results of KNN on TF- IDF Below"
   ]
  },
  {
   "cell_type": "code",
   "execution_count": 18,
   "metadata": {},
   "outputs": [
    {
     "name": "stdout",
     "output_type": "stream",
     "text": [
      "0.840109639104614\n",
      "0.7862565745939916\n"
     ]
    }
   ],
   "source": [
    "from sklearn.metrics import f1_score\n",
    "pred_labels = [train_labels[int(idx)] for idx in comp]\n",
    "print(f1_score(test_labels, pred_labels, average = \"micro\"))\n",
    "print(f1_score(test_labels, pred_labels, average = \"macro\"))"
   ]
  },
  {
   "cell_type": "markdown",
   "metadata": {},
   "source": [
    "## Implementing CPTW\n",
    "In order to implement CPTW, we need to first get the Word Embedding using the word2vec implementation."
   ]
  },
  {
   "cell_type": "code",
   "execution_count": null,
   "metadata": {},
   "outputs": [],
   "source": [
    "    model1 = gensim.models.Word2Vec(\n",
    "        documents,\n",
    "        size=150,\n",
    "        window=10,\n",
    "        min_count=2,\n",
    "        workers=10)\n",
    "    model.train(documents, total_examples=len(documents), epochs=10)"
   ]
  },
  {
   "cell_type": "code",
   "execution_count": null,
   "metadata": {},
   "outputs": [],
   "source": [
    "def gamma(w_k, d_i, w_j):\n",
    "    freq = d_i.split().count(w_k)\n",
    "    sim = model.similarity(w_k, w_j)\n",
    "    return freq * sim\n",
    "\n",
    "def cptw(d_i, embedding):\n",
    "    for w in d_i.split()\n",
    "    \n",
    "    "
   ]
  }
 ],
 "metadata": {
  "kernelspec": {
   "display_name": "Python 3",
   "language": "python",
   "name": "python3"
  },
  "language_info": {
   "codemirror_mode": {
    "name": "ipython",
    "version": 3
   },
   "file_extension": ".py",
   "mimetype": "text/x-python",
   "name": "python",
   "nbconvert_exporter": "python",
   "pygments_lexer": "ipython3",
   "version": "3.7.3"
  }
 },
 "nbformat": 4,
 "nbformat_minor": 2
}
